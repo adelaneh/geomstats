{
 "cells": [
  {
   "cell_type": "code",
   "execution_count": null,
   "id": "b7a00657",
   "metadata": {},
   "outputs": [],
   "source": [
    "%load_ext autoreload\n",
    "%autoreload 2\n",
    "\n",
    "from geomstats.geometry.reparametrizable_curves import *\n",
    "from geomstats.geometry.euclidean import Euclidean\n",
    "from sklearn.manifold import Isomap\n",
    "import plotly.express as px\n",
    "import plotly.graph_objects as go\n",
    "from plotly.subplots import make_subplots\n",
    "import pandas as pd\n",
    "import numpy as np\n",
    "from scipy.stats import special_ortho_group\n",
    "from numpy.testing import assert_almost_equal"
   ]
  },
  {
   "cell_type": "code",
   "execution_count": null,
   "id": "77966da8",
   "metadata": {},
   "outputs": [],
   "source": [
    "t_ = np.linspace(0,50,501)\n",
    "# t_ = list(range(52))"
   ]
  },
  {
   "cell_type": "code",
   "execution_count": null,
   "id": "41a9163d",
   "metadata": {},
   "outputs": [],
   "source": [
    "repcurve1 = ReparametrizableCurve({t:np.array((np.cos(t), \n",
    "                                               np.sin(t), \n",
    "                                               t)\n",
    "                                             ) for t in t_}, 't', Euclidean(dim=3))\n",
    "\n",
    "repcurve1_pts = np.asarray(list(repcurve1.t_curve.values()))\n",
    "repcurve2_pts_df = pd.DataFrame(repcurve1_pts, columns=['x', 'y', 'z'])\n",
    "fig = px.scatter_3d(repcurve2_pts_df, x='x', y='y', z='z', \n",
    "                    color=repcurve2_pts_df.index, color_continuous_scale='jet')\n",
    "fig.update_layout(scene = dict(aspectmode='data',\n",
    "                               aspectratio=dict(x=1, y=1, z=1),# auto, cube, data, manual\n",
    "                              ),)\n",
    "fig.show(renderer='notebook')"
   ]
  },
  {
   "cell_type": "code",
   "execution_count": null,
   "id": "4bd887f0",
   "metadata": {},
   "outputs": [],
   "source": [
    "repcurve1_df = pd.DataFrame(repcurve1.curvatures(2,).transpose(), \n",
    "                        columns=[f'c{jj+1}' for jj in range(2)])\n",
    "pd.options.plotting.backend = \"plotly\"\n",
    "repcurve1_df.plot(x=repcurve1_df.index, y=[f'c{jj+1}' for jj in range(2)])"
   ]
  },
  {
   "cell_type": "code",
   "execution_count": null,
   "id": "7e303ff4",
   "metadata": {},
   "outputs": [],
   "source": [
    "RR = special_ortho_group.rvs(repcurve1_pts.shape[1])\n",
    "assert_almost_equal(np.eye(repcurve1_pts.shape[1]), np.matmul(RR.transpose(), RR))\n",
    "assert_almost_equal(np.linalg.det(RR), 1)\n",
    "\n",
    "rot_repcurve1_pts = np.matmul(RR, repcurve1_pts.transpose()).transpose() \\\n",
    "                    + np.array([np.random.uniform(-100, 100, repcurve1_pts.shape[1])])\n",
    "\n",
    "rot_repcurve1_pts_df = pd.DataFrame(rot_repcurve1_pts, columns=['x', 'y', 'z'])\n",
    "fig = px.scatter_3d(rot_repcurve1_pts_df, x='x', y='y', z='z', \n",
    "                    color=rot_repcurve1_pts_df.index, color_continuous_scale='jet')\n",
    "fig.show(renderer='notebook')\n",
    "\n",
    "rot_repcurve1_rc = ReparametrizableCurve(\n",
    "    {t:rot_repcurve1_pts[idx,:] for idx, t in enumerate(t_)}, 't', Euclidean(dim=3))\n",
    "\n",
    "rot_repcurve1_df = pd.DataFrame(rot_repcurve1_rc.curvatures(2).transpose(), \n",
    "                        columns=[f'c{jj+1}' for jj in range(2)])\n",
    "# fig = px.plot(x=rot_repcurve1_df.index, y=[f'c{jj+1}' for jj in range(2)])\n",
    "# fig.update_layout(scene = dict(aspectmode='data',\n",
    "#                                aspectratio=dict(x=1, y=1, z=1),# auto, cube, data, manual\n",
    "#                               ),)\n",
    "# fig.show(renderer=\"notebook\")\n",
    "pd.options.plotting.backend = \"plotly\"\n",
    "rot_repcurve1_df.plot(x=rot_repcurve1_df.index, y=[f'c{jj+1}' for jj in range(2)])"
   ]
  },
  {
   "cell_type": "code",
   "execution_count": null,
   "id": "2f4c46ed",
   "metadata": {},
   "outputs": [],
   "source": [
    "noisy_repcurve1_pts = repcurve1_pts + np.random.normal(0, .1, repcurve1_pts.shape)\n",
    "# noisy_repcurve1_pts = np.array([np.convolve(noisy_repcurve1_pts[:,jj], \n",
    "#                                             np.ones(10)/10., mode='same').transpose()\n",
    "#                                 for jj in range(noisy_repcurve1_pts.shape[1])]).transpose()\n",
    "\n",
    "noisy_repcurve1_pts_df = pd.DataFrame(noisy_repcurve1_pts, columns=['x', 'y', 'z'])\n",
    "fig = px.scatter_3d(noisy_repcurve1_pts_df, x='x', y='y', z='z', \n",
    "                    color=noisy_repcurve1_pts_df.index, color_continuous_scale='jet')\n",
    "fig.show(renderer='notebook')\n",
    "\n",
    "noisy_repcurve1_rc = ReparametrizableCurve(\n",
    "    {t:noisy_repcurve1_pts[idx,:] for idx, t in enumerate(t_)}, 't', Euclidean(dim=3))\n",
    "\n",
    "noisy_repcurve1_df = pd.DataFrame(\n",
    "    noisy_repcurve1_rc.curvatures(2, smooth_curvatures={\n",
    "        'method':'boxcar',\n",
    "        'win_width':20,\n",
    "    }).transpose(), \n",
    "    columns=[f'c{jj+1}' for jj in range(2)])#.rolling(20).mean()\n",
    "# fig = px.plot(x=rot_repcurve1_df.index, y=[f'c{jj+1}' for jj in range(2)])\n",
    "# fig.update_layout(scene = dict(aspectmode='data',\n",
    "#                                aspectratio=dict(x=1, y=1, z=1),# auto, cube, data, manual\n",
    "#                               ),)\n",
    "# fig.show(renderer=\"notebook\")\n",
    "pd.options.plotting.backend = \"plotly\"\n",
    "noisy_repcurve1_df.plot(x=noisy_repcurve1_df.index, y=[f'c{jj+1}' for jj in range(2)])"
   ]
  },
  {
   "cell_type": "code",
   "execution_count": null,
   "id": "9619e500",
   "metadata": {},
   "outputs": [],
   "source": [
    "repcurve2 = ReparametrizableCurve({t:np.array((np.cos(t), \n",
    "                                               np.sin(t), \n",
    "                                               np.sin(2*t), \n",
    "                                               np.cos(2*t), \n",
    "                                               np.sqrt(t*np.log(t+1.1)))\n",
    "                                             ) for t in t_}, 't', Euclidean(dim=5))\n",
    "\n",
    "repcurve2_pts = np.asarray(list(repcurve2.t_curve.values()))\n",
    "isomap = Isomap(n_components=3)\n",
    "repcurve2_pts_lowdim = isomap.fit_transform(repcurve2_pts)\n",
    "repcurve2_pts_lowdim_df = pd.DataFrame(repcurve2_pts_lowdim, columns=['x', 'y', 'z'])\n",
    "fig = px.scatter_3d(repcurve2_pts_lowdim_df, x='x', y='y', z='z', \n",
    "                    color=repcurve2_pts_lowdim_df.index, color_continuous_scale='jet')\n",
    "# fig.update_layout(scene = dict(aspectmode='data',\n",
    "#                                aspectratio=dict(x=1, y=1, z=1),# auto, cube, data, manual\n",
    "#                               ),)\n",
    "fig.show(renderer='notebook')"
   ]
  },
  {
   "cell_type": "code",
   "execution_count": null,
   "id": "4cf9f157",
   "metadata": {},
   "outputs": [],
   "source": [
    "crvts_df = pd.DataFrame(repcurve2.curvatures(4).transpose(), \n",
    "                        columns=[f'c{jj+1}' for jj in range(4)])\n",
    "crvts_lowdim_df = pd.DataFrame(isomap.fit_transform(crvts_df.iloc[1:-2, :].values),\n",
    "                               columns=[f'c{jj+1}' for jj in range(3)]\n",
    "                              )\n",
    "# fig = px.scatter_3d(crvts_lowdim_df, x='c1', y='c2', z='c3', \n",
    "#                     color=crvts_lowdim_df.index, color_continuous_scale='jet')\n",
    "pd.options.plotting.backend = \"plotly\"\n",
    "crvts_df.plot(x=crvts_df.index, y=[f'c{jj+1}' for jj in range(4)])"
   ]
  },
  {
   "cell_type": "code",
   "execution_count": null,
   "id": "ec3e9d63",
   "metadata": {},
   "outputs": [],
   "source": [
    "get_torus_know = lambda p, q: {t:np.array(\n",
    "    ((np.cos(q*t)+4)*np.cos(p*t), \n",
    "     (np.cos(q*t)+4)*np.sin(p*t), \n",
    "                    -np.sin(q*t))) for t in np.linspace(0,2*np.pi,200)}\n",
    "\n",
    "torusknot_rc = ReparametrizableCurve(get_torus_know(2,3), 't', Euclidean(dim=3))\n",
    "\n",
    "torusknot_vals = np.asarray(list(torusknot_rc.t_curve.values()))\n",
    "\n",
    "fig = px.scatter_3d(x=torusknot_vals[:,0], \n",
    "                    y=torusknot_vals[:,1], \n",
    "                    z=torusknot_vals[:,2], \n",
    "                    color=range(torusknot_vals.shape[0]), \n",
    "                    color_continuous_scale='jet')\n",
    "fig.update_layout(scene = dict(aspectmode='data',\n",
    "                               aspectratio=dict(x=1, y=1, z=1),# auto, cube, data, manual\n",
    "                              ),)\n",
    "fig.show(renderer='notebook')"
   ]
  },
  {
   "cell_type": "code",
   "execution_count": null,
   "id": "44100889",
   "metadata": {
    "scrolled": false
   },
   "outputs": [],
   "source": [
    "crvts_df = pd.DataFrame(torusknot_rc.curvatures(2).transpose(), \n",
    "                        columns=[f'c{jj+1}' for jj in range(2)])\n",
    "pd.options.plotting.backend = \"plotly\"\n",
    "crvts_df.plot(x=crvts_df.index, y=[f'c{jj+1}' for jj in range(2)])"
   ]
  },
  {
   "cell_type": "code",
   "execution_count": null,
   "id": "aedca137",
   "metadata": {},
   "outputs": [],
   "source": [
    "RR = special_ortho_group.rvs(torusknot_vals.shape[1])\n",
    "assert_almost_equal(np.eye(torusknot_vals.shape[1]), np.matmul(RR.transpose(), RR))\n",
    "assert_almost_equal(np.linalg.det(RR), 1)\n",
    "\n",
    "rot_torusknot_vals = np.matmul(RR, torusknot_vals.transpose()).transpose() \\\n",
    "                    + np.array([np.random.uniform(-100, 100, torusknot_vals.shape[1])])\n",
    "\n",
    "fig = px.scatter_3d(x=rot_torusknot_vals[:,0], \n",
    "                    y=rot_torusknot_vals[:,1], \n",
    "                    z=rot_torusknot_vals[:,2], \n",
    "                    color=range(rot_torusknot_vals.shape[0]), \n",
    "                    color_continuous_scale='jet')\n",
    "fig.update_layout(scene = dict(aspectmode='data',\n",
    "                               aspectratio=dict(x=1, y=1, z=1),# auto, cube, data, manual\n",
    "                              ),)\n",
    "fig.show(renderer='notebook')\n",
    "\n",
    "rot_torusknot_rc = ReparametrizableCurve(\n",
    "    {t:rot_torusknot_vals[idx,:] for idx, t in enumerate(np.linspace(0,2*np.pi,200))}, 't', Euclidean(dim=3))\n",
    "crvts_df = pd.DataFrame(rot_torusknot_rc.curvatures(2).transpose(), \n",
    "                        columns=[f'c{jj+1}' for jj in range(2)])\n",
    "pd.options.plotting.backend = \"plotly\"\n",
    "crvts_df.plot(x=crvts_df.index, y=[f'c{jj+1}' for jj in range(2)])"
   ]
  },
  {
   "cell_type": "code",
   "execution_count": null,
   "id": "b66e98ef",
   "metadata": {},
   "outputs": [],
   "source": [
    "noisy_torusknot_vals = torusknot_vals + np.random.normal(0, .1, torusknot_vals.shape)\n",
    "\n",
    "fig = px.scatter_3d(x=noisy_torusknot_vals[:,0], \n",
    "                    y=noisy_torusknot_vals[:,1], \n",
    "                    z=noisy_torusknot_vals[:,2], \n",
    "                    color=range(noisy_torusknot_vals.shape[0]), \n",
    "                    color_continuous_scale='jet')\n",
    "fig.update_layout(scene = dict(aspectmode='data',\n",
    "                               aspectratio=dict(x=1, y=1, z=1),# auto, cube, data, manual\n",
    "                              ),)\n",
    "fig.show(renderer='notebook')\n",
    "\n",
    "noisy_torusknot_rc = ReparametrizableCurve(\n",
    "    {t:noisy_torusknot_vals[idx,:] for idx, t in enumerate(np.linspace(0,2*np.pi,200))}, 't', Euclidean(dim=3))\n",
    "crvts_df = pd.DataFrame(\n",
    "    noisy_torusknot_rc.curvatures(2, smooth_curvatures={\n",
    "        'method':'boxcar',\n",
    "        'win_width':15,\n",
    "    }).transpose(), \n",
    "    columns=[f'c{jj+1}' for jj in range(2)])#.rolling(20).mean()\n",
    "pd.options.plotting.backend = \"plotly\"\n",
    "crvts_df.plot(x=crvts_df.index, y=[f'c{jj+1}' for jj in range(2)])"
   ]
  },
  {
   "cell_type": "code",
   "execution_count": null,
   "id": "9800be69",
   "metadata": {},
   "outputs": [],
   "source": []
  }
 ],
 "metadata": {
  "kernelspec": {
   "display_name": "Python 3 (ipykernel)",
   "language": "python",
   "name": "python3"
  },
  "language_info": {
   "codemirror_mode": {
    "name": "ipython",
    "version": 3
   },
   "file_extension": ".py",
   "mimetype": "text/x-python",
   "name": "python",
   "nbconvert_exporter": "python",
   "pygments_lexer": "ipython3",
   "version": "3.8.13"
  }
 },
 "nbformat": 4,
 "nbformat_minor": 5
}
